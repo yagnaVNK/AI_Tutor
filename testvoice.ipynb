{
 "cells": [
  {
   "cell_type": "code",
   "execution_count": null,
   "metadata": {},
   "outputs": [],
   "source": [
    "from generator import load_csm_1b\n",
    "import torchaudio\n",
    "\n",
    "generator = load_csm_1b()\n",
    "\n",
    "audio = generator.generate(\n",
    "    text=\"Hello from Sesame.\",\n",
    "    speaker=0,\n",
    "    context=[],\n",
    "    max_audio_length_ms=10_000,\n",
    ")\n",
    "\n",
    "torchaudio.save(\"audio.wav\", audio.unsqueeze(0).cpu(), generator.sample_rate)"
   ]
  },
  {
   "cell_type": "code",
   "execution_count": null,
   "metadata": {},
   "outputs": [],
   "source": []
  }
 ],
 "metadata": {
  "kernelspec": {
   "display_name": ".venv",
   "language": "python",
   "name": "python3"
  },
  "language_info": {
   "codemirror_mode": {
    "name": "ipython",
    "version": 3
   },
   "file_extension": ".py",
   "mimetype": "text/x-python",
   "name": "python",
   "nbconvert_exporter": "python",
   "pygments_lexer": "ipython3",
   "version": "3.10.0rc2"
  }
 },
 "nbformat": 4,
 "nbformat_minor": 2
}
