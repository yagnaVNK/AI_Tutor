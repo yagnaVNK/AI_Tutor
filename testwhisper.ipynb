{
 "cells": [
  {
   "cell_type": "code",
   "execution_count": null,
   "metadata": {},
   "outputs": [],
   "source": [
    "import whisper\n",
    "\n",
    "model = whisper.load_model(\"turbo\")\n"
   ]
  },
  {
   "cell_type": "code",
   "execution_count": null,
   "metadata": {},
   "outputs": [],
   "source": [
    "import sounddevice as sd\n",
    "import numpy as np\n",
    "import torch\n",
    "import whisper\n",
    "import torchaudio\n",
    "\n",
    "def choose_microphone():\n",
    "    try:\n",
    "        devices = sd.query_devices()\n",
    "        mic_list = [(i, device['name'], device['default_samplerate']) \n",
    "                    for i, device in enumerate(devices) if device['max_input_channels'] > 0]\n",
    "\n",
    "        if not mic_list:\n",
    "            print(\"No microphones found.\")\n",
    "            return None, None\n",
    "\n",
    "        print(\"\\nAvailable Microphones:\")\n",
    "        for i, (index, mic_name, rate) in enumerate(mic_list):\n",
    "            print(f\"{index}: {mic_name} (Default Sample Rate: {rate} Hz)\")\n",
    "\n",
    "        while True:\n",
    "            try:\n",
    "                mic_index = int(input(\"Enter the index of the microphone to use: \"))\n",
    "                for idx, _, rate in mic_list:\n",
    "                    if mic_index == idx:\n",
    "                        return mic_index, int(rate)\n",
    "                print(\"Invalid selection. Please enter a valid index.\")\n",
    "            except ValueError:\n",
    "                print(\"Invalid input. Please enter a number.\")\n",
    "    except Exception as e:\n",
    "        print(f\"An error occurred while listing microphones: {e}\")\n",
    "        return None, None\n",
    "\n",
    "def record_and_transcribe(model, duration=5):\n",
    "    mic_index, sample_rate = choose_microphone()\n",
    "    if mic_index is None:\n",
    "        return None, \"No microphone selected.\"\n",
    "    \n",
    "    print(f\"Using microphone index {mic_index} with sample rate {sample_rate} Hz for recording.\")\n",
    "    print(f\"Recording for {duration} seconds...\")\n",
    "\n",
    "    try:\n",
    "        # Set selected microphone and sample rate\n",
    "        sd.default.device = mic_index\n",
    "        audio_data = sd.rec(int(duration * sample_rate), samplerate=sample_rate, channels=1, dtype='float32')\n",
    "        sd.wait()\n",
    "        print(\"Recording finished.\")\n",
    "    except Exception as e:\n",
    "        print(f\"Error while recording: {e}\")\n",
    "        return None, str(e)\n",
    "    \n",
    "    # Convert to tensor and normalize\n",
    "    audio_tensor = torch.tensor(audio_data.flatten()).clamp(-1.0, 1.0)\n",
    "    audio_tensor = audio_tensor.unsqueeze(0)\n",
    "\n",
    "    # Save using torchaudio\n",
    "    audio_path = \"temp_audio.wav\"\n",
    "    torchaudio.save(audio_path, audio_tensor, sample_rate=sample_rate)\n",
    "\n",
    "    # Transcribe with Whisper\n",
    "    print(\"Transcribing audio...\")\n",
    "    result = model.transcribe(audio_path)\n",
    "    \n",
    "    return audio_tensor, result['text']\n",
    "\n",
    "# Example Usage\n",
    "model = whisper.load_model(\"base\")\n"
   ]
  },
  {
   "cell_type": "code",
   "execution_count": null,
   "metadata": {},
   "outputs": [],
   "source": [
    "\n",
    "audio_tensor, text = record_and_transcribe(model, duration=5)\n",
    "if text:\n",
    "    print(\"Transcribed Text:\", text)"
   ]
  },
  {
   "cell_type": "code",
   "execution_count": null,
   "metadata": {},
   "outputs": [
    {
     "ename": "",
     "evalue": "",
     "output_type": "error",
     "traceback": [
      "\u001b[1;31mThe kernel failed to start as 'isoparse' could not be imported from 'unknown location'.\n",
      "\u001b[1;31mClick <a href='https://aka.ms/kernelFailuresModuleImportErrFromFile'>here</a> for more info."
     ]
    }
   ],
   "source": [
    "import os\n",
    "from dotenv import load_dotenv\n",
    "from huggingface_hub import login\n",
    "\n",
    "load_dotenv()  \n",
    "HF_TOKEN = os.environ.get('HUGGING_FACE_HUB_TOKEN')\n",
    "\n",
    "print(HF_TOKEN)"
   ]
  },
  {
   "cell_type": "code",
   "execution_count": null,
   "metadata": {},
   "outputs": [],
   "source": [
    "from generator import load_csm_1b\n",
    "\n",
    "model = load_csm_1b()"
   ]
  },
  {
   "cell_type": "code",
   "execution_count": null,
   "metadata": {},
   "outputs": [],
   "source": [
    "print(HF_TOKEN)"
   ]
  },
  {
   "cell_type": "code",
   "execution_count": null,
   "metadata": {},
   "outputs": [],
   "source": []
  }
 ],
 "metadata": {
  "kernelspec": {
   "display_name": "AItutor",
   "language": "python",
   "name": "python3"
  },
  "language_info": {
   "codemirror_mode": {
    "name": "ipython",
    "version": 3
   },
   "file_extension": ".py",
   "mimetype": "text/x-python",
   "name": "python",
   "nbconvert_exporter": "python",
   "pygments_lexer": "ipython3",
   "version": "3.10.16"
  }
 },
 "nbformat": 4,
 "nbformat_minor": 2
}
